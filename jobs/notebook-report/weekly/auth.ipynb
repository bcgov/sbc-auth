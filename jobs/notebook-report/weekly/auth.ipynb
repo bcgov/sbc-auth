{
 "cells": [
  {
   "cell_type": "markdown",
   "metadata": {
    "collapsed": false
   },
   "source": [
    "# Auth Weekly Stats"
   ]
  },
  {
   "cell_type": "markdown",
   "metadata": {
    "collapsed": false
   },
   "source": [
    "We need to load in these libraries into our notebook in order to query, load, manipulate and view the data"
   ]
  },
  {
   "cell_type": "code",
   "execution_count": null,
   "metadata": {
    "collapsed": false,
    "pycharm": {
     "is_executing": false,
     "name": "#%%\n"
    }
   },
   "outputs": [],
   "source": [
    "import os\n",
    "import csv\n",
    "from datetime import datetime, timedelta\n",
    "from config import Config\n",
    "\n",
    "%load_ext sql\n",
    "%config SqlMagic.displaylimit = 5"
   ]
  },
  {
   "cell_type": "markdown",
   "metadata": {
    "collapsed": false
   },
   "source": [
    "This will create the connection to the database and prep the jupyter magic for SQL"
   ]
  },
  {
   "cell_type": "code",
   "execution_count": null,
   "metadata": {
    "collapsed": false,
    "pycharm": {
     "is_executing": false,
     "name": "#%%\n"
    }
   },
   "outputs": [],
   "source": [
    "%sql $Config.SQLALCHEMY_DATABASE_URI"
   ]
  },
  {
   "cell_type": "markdown",
   "metadata": {
    "collapsed": false
   },
   "source": [
    "weekly total before running time."
   ]
  },
  {
   "cell_type": "code",
   "execution_count": null,
   "metadata": {
    "collapsed": false,
    "pycharm": {
     "is_executing": false,
     "name": "#%%\n"
    }
   },
   "outputs": [],
   "source": [
    "%%sql stat_accounts_weekly_completed  <<\n",
    "SELECT count(*) FILTER (WHERE type_code = 'BASIC') AS BASIC\n",
    ",count(*) FILTER (WHERE type_code = 'PREMIUM') AS PREMIUM\n",
    "FROM orgs WHERE status_code='ACTIVE'\n",
    "AND date(created at time zone 'utc' at time zone 'pst') > date(current_date - 1 - interval '1 weeks')\n",
    "AND date(created at time zone 'utc' at time zone 'pst') <= date(current_date - 1)"
   ]
  },
  {
   "cell_type": "markdown",
   "metadata": {
    "collapsed": false
   },
   "source": [
    "Save to CSV"
   ]
  },
  {
   "cell_type": "code",
   "execution_count": null,
   "metadata": {
    "collapsed": false,
    "pycharm": {
     "is_executing": false,
     "name": "#%%\n"
    }
   },
   "outputs": [],
   "source": [
    "filename = os.path.join(os.getcwd(), r'data/')+'auth_weekly_stats_till_' + datetime.strftime(datetime.now()-timedelta(1), '%Y-%m-%d') +'.csv'\n",
    "\n",
    "df = stat_accounts_weekly_completed.DataFrame()\n",
    "with open(filename, 'w') as f:\n",
    "    df.insert(0, \"Weekly Number of New Accounts:\", [''], True)\n",
    "    df.to_csv(f, sep=',', encoding='utf-8', index=False)"
   ]
  },
  {
   "cell_type": "code",
   "execution_count": null,
   "metadata": {},
   "outputs": [],
   "source": [
    "%%sql stat_accounts_total_completed  <<\n",
    "SELECT count(*) FILTER (WHERE type_code = 'BASIC') AS BASIC\n",
    ",count(*) FILTER (WHERE type_code = 'PREMIUM') AS PREMIUM\n",
    "FROM orgs WHERE status_code='ACTIVE'"
   ]
  },
  {
   "cell_type": "code",
   "execution_count": null,
   "metadata": {},
   "outputs": [],
   "source": [
    "df = stat_accounts_total_completed.DataFrame()\n",
    "with open(filename, 'a') as f:      \n",
    "    f.write('\\n\\n')\n",
    "    df.insert(0, \"Total Number of Accounts:\", [''], True)\n",
    "    df.to_csv(f, sep=',', encoding='utf-8', index=False)"
   ]
  },
  {
   "cell_type": "code",
   "execution_count": null,
   "metadata": {},
   "outputs": [],
   "source": [
    "%%sql stat_accounts_login_option_weekly_completed  <<\n",
    "SELECT COUNT(*) FILTER (WHERE a.login_source = 'BCEID') AS BCEID\n",
    ",COUNT(*) FILTER (WHERE a.login_source = 'BCSC') AS BCSC\n",
    "FROM orgs o, account_login_options a \n",
    "WHERE o.id=a.org_id \n",
    "AND o.status_code='ACTIVE' \n",
    "AND a.is_active='TRUE' \n",
    "AND date(o.created at time zone 'utc' at time zone 'pst') > date(current_date - 1 - interval '1 weeks')\n",
    "AND date(o.created at time zone 'utc' at time zone 'pst') <= date(current_date - 1)  "
   ]
  },
  {
   "cell_type": "code",
   "execution_count": null,
   "metadata": {},
   "outputs": [],
   "source": [
    "df = stat_accounts_login_option_weekly_completed.DataFrame()\n",
    "\n",
    "df['bceid_%'] = round((df.bceid / (df.bceid+df.bcsc)).astype('float') * float(100), 2)\n",
    "df['bcsc_%'] = round((df.bcsc / (df.bceid+df.bcsc)).astype('float') * float(100), 2)\n",
    "\n",
    "with open(filename, 'a') as f:\n",
    "    f.write('\\n\\n')\n",
    "    df.insert(0, \"New Accounts for BCeID and BCSC from \" + datetime.strftime(datetime.now()-timedelta(8), '%Y-%m-%d') + \" to \" + datetime.strftime(datetime.now()-timedelta(1), '%Y-%m-%d') + \":\", [''], True)\n",
    "    df.to_csv(f, sep=',', encoding='utf-8', index=False)"
   ]
  },
  {
   "cell_type": "code",
   "execution_count": null,
   "metadata": {},
   "outputs": [],
   "source": [
    "%%sql stat_accounts_login_option_weekly_last_year_completed  <<\n",
    "SELECT COUNT(*) FILTER (WHERE a.login_source = 'BCEID') AS BCEID\n",
    ",COUNT(*) FILTER (WHERE a.login_source = 'BCSC') AS BCSC\n",
    "FROM orgs o, account_login_options a \n",
    "WHERE o.id=a.org_id \n",
    "AND o.status_code='ACTIVE' \n",
    "AND a.is_active='TRUE' \n",
    "AND date(o.created at time zone 'utc' at time zone 'pst') > date(current_date - 1 - interval '1 years' - interval '1 weeks')\n",
    "AND date(o.created at time zone 'utc' at time zone 'pst') <= date(current_date - 1 - interval '1 years')  "
   ]
  },
  {
   "cell_type": "code",
   "execution_count": null,
   "metadata": {},
   "outputs": [],
   "source": [
    "df = stat_accounts_login_option_weekly_last_year_completed.DataFrame()\n",
    "\n",
    "df['bceid_%'] = round((df.bceid / (df.bceid+df.bcsc)).astype('float') * float(100), 2)\n",
    "df['bcsc_%'] = round((df.bcsc / (df.bceid+df.bcsc)).astype('float') * float(100), 2)\n",
    "\n",
    "with open(filename, 'a') as f:\n",
    "    f.write('\\n\\n')\n",
    "    df.insert(0, \"New Accounts for BCeID and BCSC last year from \" + datetime.strftime(datetime.now()-timedelta(373), '%Y-%m-%d') + \" to \" + datetime.strftime(datetime.now()-timedelta(366), '%Y-%m-%d') + \":\", [''], True)\n",
    "    df.to_csv(f, sep=',', encoding='utf-8', index=False)"
   ]
  },
  {
   "cell_type": "code",
   "execution_count": null,
   "metadata": {},
   "outputs": [],
   "source": [
    "%%sql stat_accounts_login_option_pass_years_completed  <<\n",
    "SELECT SUBSTRING(CAST(date_part('year', o.created) AS VARCHAR), 1, 4) AS YEAR, COUNT(*) FILTER (WHERE a.login_source = 'BCEID') AS BCEID\n",
    ", COUNT(*) FILTER (WHERE a.login_source = 'BCSC') AS BCSC\n",
    "FROM orgs o, account_login_options a \n",
    "WHERE o.id=a.org_id \n",
    "AND o.status_code='ACTIVE' \n",
    "AND a.is_active='TRUE'\n",
    "AND date(o.created at time zone 'utc' at time zone 'pst')  > date(current_date - interval '20 years')\n",
    "GROUP BY date_part('year', o.created)\n",
    "ORDER BY date_part('year', o.created) DESC;"
   ]
  },
  {
   "cell_type": "code",
   "execution_count": null,
   "metadata": {},
   "outputs": [],
   "source": [
    "df = stat_accounts_login_option_pass_years_completed.DataFrame()\n",
    "df['bceid_%'] = round((df.bceid / (df.bceid+df.bcsc)).astype('float') * float(100), 2)\n",
    "df['bcsc_%'] = round((df.bcsc / (df.bceid+df.bcsc)).astype('float') * float(100), 2)\n",
    "\n",
    "arr = [] \n",
    "for i in range(len(df)-1): \n",
    "\tarr.append('',) \n",
    "arr.append('') \n",
    "\n",
    "with open(filename, 'a') as f:      \n",
    "    f.write('\\n\\n')\n",
    "    df.insert(0, \"Total Number of BCeID and BCSC Accounts by Year:\", arr , True)\n",
    "    df.to_csv(f, sep=',', encoding='utf-8', index=False)"
   ]
  },
  {
   "cell_type": "code",
   "execution_count": null,
   "metadata": {
    "collapsed": false,
    "pycharm": {
     "is_executing": false,
     "name": "#%%\n"
    }
   },
   "outputs": [],
   "source": [
    "%%sql stat_users_weekly_completed  <<\n",
    "SELECT count(*) FILTER (WHERE login_source = 'BCEID') AS BCEID\n",
    ",count(*) FILTER (WHERE login_source = 'BCSC') AS BCSC\n",
    "FROM users\n",
    "WHERE date(login_time at time zone 'utc' at time zone 'pst') > date(current_date - 1 - interval '1 weeks')\n",
    "AND date(login_time at time zone 'utc' at time zone 'pst') <= date(current_date - 1)"
   ]
  },
  {
   "cell_type": "code",
   "execution_count": null,
   "metadata": {},
   "outputs": [],
   "source": [
    "df = stat_users_weekly_completed.DataFrame()\n",
    "with open(filename, 'a') as f:      \n",
    "    f.write('\\n\\n')\n",
    "    df.insert(0, \"Weekly Number of Login Users:\", [''], True)\n",
    "    df.to_csv(f, sep=',', encoding='utf-8', index=False)"
   ]
  },
  {
   "cell_type": "code",
   "execution_count": null,
   "metadata": {},
   "outputs": [],
   "source": [
    "%%sql stat_users_total_completed  <<\n",
    "SELECT count(*) FILTER (WHERE login_source = 'BCEID') AS BCEID\n",
    ",count(*) FILTER (WHERE login_source = 'BCSC') AS BCSC\n",
    "FROM users"
   ]
  },
  {
   "cell_type": "code",
   "execution_count": null,
   "metadata": {},
   "outputs": [],
   "source": [
    "df = stat_users_total_completed.DataFrame()\n",
    "with open(filename, 'a') as f:      \n",
    "    f.write('\\n\\n')\n",
    "    df.insert(0, \"Total Number of Login Users:\", [''], True)\n",
    "    df.to_csv(f, sep=',', encoding='utf-8', index=False)"
   ]
  }
 ],
 "metadata": {
  "celltoolbar": "Tags",
  "kernelspec": {
   "display_name": "Python 3",
   "language": "python",
   "name": "python3"
  },
  "language_info": {
   "codemirror_mode": {
    "name": "ipython",
    "version": 3
   },
   "file_extension": ".py",
   "mimetype": "text/x-python",
   "name": "python",
   "nbconvert_exporter": "python",
   "pygments_lexer": "ipython3",
   "version": "3.10.4"
  },
  "pycharm": {
   "stem_cell": {
    "cell_type": "raw",
    "metadata": {
     "collapsed": false
    },
    "source": []
   }
  }
 },
 "nbformat": 4,
 "nbformat_minor": 2
}
